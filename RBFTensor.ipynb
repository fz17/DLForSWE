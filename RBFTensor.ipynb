{
 "cells": [
  {
   "cell_type": "markdown",
   "metadata": {},
   "source": [
    "<center> <font color = #82318E size = 5 face = \"微软雅黑\" > Vorticity For Global Shallow Water  Wave</font> </center>"
   ]
  },
  {
   "cell_type": "code",
   "execution_count": 1,
   "metadata": {
    "collapsed": true
   },
   "outputs": [],
   "source": [
    "import math\n",
    "import numpy as np"
   ]
  },
  {
   "cell_type": "markdown",
   "metadata": {},
   "source": [
    "<center> <font color = #82318E size = 4 face = \"微软雅黑\" > 1. Prepare Virtual Data </font> </center>"
   ]
  },
  {
   "cell_type": "code",
   "execution_count": 55,
   "metadata": {
    "scrolled": true
   },
   "outputs": [
    {
     "name": "stdout",
     "output_type": "stream",
     "text": [
      "<class 'list'> 9\n",
      "<class 'list'> 3\n"
     ]
    }
   ],
   "source": [
    "im = 9\n",
    "\n",
    "np.random.seed(522)\n",
    "temp = list(map(lambda theta, phi: [math.cos(theta) * math.cos(phi), \n",
    "                                    math.cos(theta) * math.sin(phi), \n",
    "                                    math.sin(theta)],\n",
    "                np.random.uniform(low = -np.pi, high = np.pi, size = im),\n",
    "                np.random.uniform(low = 0, high = 2 * np.pi,  size = im)))\n",
    "\n",
    "print(type(temp), len(temp))\n",
    "print(type(temp[0]), len(temp[0]))\n",
    "\n",
    "x = CartCoor[::, 0]; y = CartCoor[::, 1]; z = CartCoor[::, 2]\n",
    "\n",
    "np.random.seed(522)\n",
    "U = np.random.uniform(low = -5, high = 5, size = (im, 3))\n",
    "\n",
    "np.random.seed(522)\n",
    "H = np.random.uniform(low = -10, high = 10, size = (im, 1))\n",
    "\n",
    "np.random.seed(522)\n",
    "f = np.random.uniform(low = -1e-4, high = 1e-4, size = (im, 1))"
   ]
  },
  {
   "cell_type": "markdown",
   "metadata": {},
   "source": [
    "<center> <font color = #82318E size = 4 face = \"微软雅黑\" > 2. Calculate Distance </font> </center>"
   ]
  },
  {
   "cell_type": "code",
   "execution_count": 48,
   "metadata": {},
   "outputs": [
    {
     "name": "stdout",
     "output_type": "stream",
     "text": [
      "[[ 4.          3.13082045  0.66595331  2.2477717   0.58426401  2.23665088\n",
      "   3.90556785  3.97845656  1.0408933 ]\n",
      " [ 3.13082045  4.          3.20470718  3.18940743  3.30140887  3.46181886\n",
      "   1.01850457  0.99224477  3.93105115]\n",
      " [ 0.66595331  3.20470718  4.          0.92258383  1.77399727  1.94085526\n",
      "   3.65248674  3.46324984  0.55729617]\n",
      " [ 2.2477717   3.18940743  0.92258383  4.          2.42426309  0.67145562\n",
      "   2.01523746  1.79709995  0.47520487]\n",
      " [ 0.58426401  3.30140887  1.77399727  2.42426309  4.          1.29373871\n",
      "   2.93344399  3.19380561  1.12553924]\n",
      " [ 2.23665088  3.46181886  1.94085526  0.67145562  1.29373871  4.\n",
      "   1.52821734  1.57748116  0.59600929]\n",
      " [ 3.90556785  1.01850457  3.65248674  2.01523746  2.93344399  1.52821734\n",
      "   4.          0.02963207  2.96346571]\n",
      " [ 3.97845656  0.99224477  3.46324984  1.79709995  3.19380561  1.57748116\n",
      "   0.02963207  4.          2.89998113]\n",
      " [ 1.0408933   3.93105115  0.55729617  0.47520487  1.12553924  0.59600929\n",
      "   2.96346571  2.89998113  4.        ]]\n",
      "[0 1 2 3 4 5 6 7 8]\n",
      "[4 7 8 8 0 8 7 6 3]\n"
     ]
    }
   ],
   "source": [
    "DistMatrix = 4 * np.ones((im, im))\n",
    "for i in np.arange(im):\n",
    "    for j in np.arange(im):\n",
    "        if j == i:\n",
    "            continue\n",
    "        DistMatrix[i, j] = (x[i] - x[j]) ** 2 + (y[i] - y[j]) ** 2 + (z[i] - z[j]) ** 2\n",
    "    \n",
    "print(DistMatrix)\n",
    "\n",
    "print(np.argmax(DistMatrix, axis = 0))\n",
    "index = np.argmin(DistMatrix, axis = 0)\n",
    "print(index)"
   ]
  },
  {
   "cell_type": "code",
   "execution_count": 58,
   "metadata": {},
   "outputs": [
    {
     "name": "stdout",
     "output_type": "stream",
     "text": [
      "(9, 1)\n",
      "[[-1.23622924]\n",
      " [-0.08283105]\n",
      " [-3.81979074]\n",
      " [-1.43136013]\n",
      " [-2.53196815]\n",
      " [-3.80764208]\n",
      " [ 4.08284327]\n",
      " [ 3.62339847]\n",
      " [ 0.0660357 ]]\n"
     ]
    }
   ],
   "source": [
    "Partial_vx = np.zeros((im, 1)) \n",
    "Partial_uy = np.zeros((im, 1))\n",
    "Vorticity = np.zeros((im, 1))\n",
    "\n",
    "for i in np.arange(im):\n",
    "    Partial_vx[i, 0] = (U[i, 1] - U[index[i], 1])/(x[i] - x[index[i]])\n",
    "    Partial_uy[i, 0] = (U[i, 0] - U[index[i], 0])/(y[i] - y[index[i]])\n",
    "\n",
    "Vorticity = (f + Partial_vx - Partial_uy)/H\n",
    "\n",
    "print(Vorticity.shape)\n",
    "print(Vorticity)"
   ]
  },
  {
   "cell_type": "markdown",
   "metadata": {},
   "source": [
    "<center> <font color = #82318E size = 4 face = \"微软雅黑\" > 3. Other things </font> </center>"
   ]
  },
  {
   "cell_type": "code",
   "execution_count": 43,
   "metadata": {
    "scrolled": true
   },
   "outputs": [
    {
     "name": "stdout",
     "output_type": "stream",
     "text": [
      "[[-2.97784405 -1.53197359  1.        ]\n",
      " [-0.80724224  0.57936041  1.        ]\n",
      " [ 1.1464394  -0.75221934  1.        ]\n",
      " [ 1.68503772  0.12237668  1.        ]\n",
      " [-2.84896451 -0.74798666  1.        ]]\n",
      "[[ 1.60961906]\n",
      " [ 5.70382489]\n",
      " [ 2.38937331]\n",
      " [ 3.26396934]\n",
      " [ 2.393606  ]]\n",
      "[[-1.53197359]\n",
      " [ 2.56223224]\n",
      " [-0.75221934]\n",
      " [ 0.12237668]\n",
      " [-0.74798666]]\n"
     ]
    }
   ],
   "source": [
    "CartCoor = np.array(temp, dtype = np.float)\n",
    "\n",
    "def cart2sph(a, b, c):\n",
    "    ab = a**2 + b**2\n",
    "    r = np.sqrt(ab + c**2)            # radius\n",
    "    elev = np.arctan2(c, np.sqrt(ab)) # elevation\n",
    "    az = np.arctan2(b, a)             # azimuth\n",
    "\n",
    "    return az, elev, r\n",
    "\n",
    "SphCoor = np.zeros(CartCoor.shape)\n",
    "for i in np.arange(im):\n",
    "    SphCoor[i, ::] = cart2sph(CartCoor[i, 0], CartCoor[i, 1], CartCoor[i, 2])\n",
    "    \n",
    "print(SphCoor[0:5:1, ::])\n",
    "\n",
    "np.random.seed(522)\n",
    "print(np.random.uniform(low = 0, high = 2 * np.pi,  size = im)[0:5:1].reshape(-1,1))\n",
    "np.random.seed(522)\n",
    "print(np.random.uniform(low = -np.pi, high = np.pi, size = im)[0:5:1].reshape(-1,1))"
   ]
  },
  {
   "cell_type": "code",
   "execution_count": 73,
   "metadata": {},
   "outputs": [
    {
     "name": "stdout",
     "output_type": "stream",
     "text": [
      "Tensor(\"strided_slice_4:0\", shape=(), dtype=int32)\n"
     ]
    }
   ],
   "source": [
    "import tensorflow as tf\n",
    "'''\n",
    "help(tf.constant)'''\n",
    "a = tf.constant([[2, 3], [2, 3]])\n",
    "print(a[1, 0])"
   ]
  },
  {
   "cell_type": "code",
   "execution_count": 75,
   "metadata": {},
   "outputs": [
    {
     "name": "stdout",
     "output_type": "stream",
     "text": [
      "Help on function zeros in module tensorflow.python.ops.array_ops:\n",
      "\n",
      "zeros(shape, dtype=tf.float32, name=None)\n",
      "    Creates a tensor with all elements set to zero.\n",
      "    \n",
      "    This operation returns a tensor of type `dtype` with shape `shape` and\n",
      "    all elements set to zero.\n",
      "    \n",
      "    For example:\n",
      "    \n",
      "    ```python\n",
      "    tf.zeros([3, 4], tf.int32) ==> [[0, 0, 0, 0], [0, 0, 0, 0], [0, 0, 0, 0]]\n",
      "    ```\n",
      "    \n",
      "    Args:\n",
      "      shape: Either a list of integers, or a 1-D `Tensor` of type `int32`.\n",
      "      dtype: The type of an element in the resulting `Tensor`.\n",
      "      name: A name for the operation (optional).\n",
      "    \n",
      "    Returns:\n",
      "      A `Tensor` with all elements set to zero.\n",
      "\n"
     ]
    },
    {
     "data": {
      "text/plain": [
       "<tf.Tensor 'zeros:0' shape=(5, 3) dtype=float32>"
      ]
     },
     "execution_count": 75,
     "metadata": {},
     "output_type": "execute_result"
    }
   ],
   "source": [
    "help(tf.zeros)\n",
    "tf.zeros((5,3))"
   ]
  },
  {
   "cell_type": "code",
   "execution_count": null,
   "metadata": {
    "collapsed": true
   },
   "outputs": [],
   "source": []
  }
 ],
 "metadata": {
  "kernelspec": {
   "display_name": "Python 3",
   "language": "python",
   "name": "python3"
  },
  "language_info": {
   "codemirror_mode": {
    "name": "ipython",
    "version": 3
   },
   "file_extension": ".py",
   "mimetype": "text/x-python",
   "name": "python",
   "nbconvert_exporter": "python",
   "pygments_lexer": "ipython3",
   "version": "3.6.1"
  }
 },
 "nbformat": 4,
 "nbformat_minor": 2
}
